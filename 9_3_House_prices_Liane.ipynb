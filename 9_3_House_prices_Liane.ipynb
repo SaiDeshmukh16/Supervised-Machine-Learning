{
 "cells": [
  {
   "cell_type": "markdown",
   "id": "c7c6b2a3-538f-49fe-9faa-bf047669e810",
   "metadata": {},
   "source": [
    "# House Price - Pipeline, GridSearch, CrossValidation"
   ]
  },
  {
   "cell_type": "markdown",
   "id": "f8ea7957-2c4a-49b5-9754-b84e70a4ab61",
   "metadata": {},
   "source": [
    "**Column Descriptions:**"
   ]
  },
  {
   "cell_type": "markdown",
   "id": "807bd06a-3d41-4157-a716-1615c4865cc2",
   "metadata": {
    "tags": []
   },
   "source": [
    "1. LotFrontage: Linear feet of street connected to property\n",
    "2. LotArea: Lot size in square feet\n",
    "3. TotalBsmtSF: Total square feet of basement area\n",
    "4. BedroomAbvGr: Bedrooms above grade (does NOT include basement bedrooms)\n",
    "5. Fireplaces: Number of fireplaces\n",
    "6. PoolArea: Pool area in square feet\n",
    "7. GarageCars: Size of garage in car capacity \n",
    "8. WoodDeckSF: Wood deck area in square feet\n",
    "9. ScreenPorch: Screen porch area in square feet\n",
    "10. MSZoning: Identifies the general zoning classification of the sale.\n",
    "    * A\t\tAgriculture\n",
    "    * C\t\tCommercial\n",
    "    * FV\tFloating Village Residential\n",
    "    * I\t\tIndustrial\n",
    "    * RH\tResidential High Density\n",
    "    * RL\tResidential Low Density\n",
    "    * RP\tResidential Low Density Park \n",
    "    * RM\tResidential Medium Density\n",
    "11. Condition1: Proximity to various conditions\n",
    "    * Artery\tAdjacent to arterial street\n",
    "    * Feedr\tAdjacent to feeder street\t\n",
    "    * Norm\tNormal\t\n",
    "    * RRNn\tWithin 200' of North-South Railroad\n",
    "    * RRAn\tAdjacent to North-South Railroad\n",
    "    * PosN\tNear positive off-site feature--park, greenbelt, etc.\n",
    "    * PosA\tAdjacent to postive off-site feature\n",
    "    * RRNe\tWithin 200' of East-West Railroad\n",
    "    * RRAe\tAdjacent to East-West Railroad\n",
    "12. Heating: Type of heating\n",
    "    * Floor\tFloor Furnace\n",
    "    * GasA\tGas forced warm air furnace\n",
    "    * GasW\tGas hot water or steam heat\n",
    "    * Grav\tGravity furnace\t\n",
    "    * OthW\tHot water or steam heat other than gas\n",
    "    * Wall\tWall furnace\n",
    "13. Street: Type of road access to property\n",
    "    * Grvl\tGravel\t\n",
    "    * Pave\tPaved\n",
    "14. CentralAir: Central air conditioning\n",
    "    * N\tNo\n",
    "    * Y\tYes\n",
    "15. Foundation: Type of foundation\n",
    "    * BrkTil\tBrick & Tile\n",
    "    * CBlock\tCinder Block\n",
    "    * PConc\tPoured Contrete\t\n",
    "    * Slab\tSlab\n",
    "    * Stone\tStone\n",
    "    * Wood\tWood"
   ]
  },
  {
   "cell_type": "markdown",
   "id": "adc086ac-ed2d-435b-9f92-2b241009a6e2",
   "metadata": {},
   "source": [
    "## 1. Import data and libraries"
   ]
  },
  {
   "cell_type": "code",
   "execution_count": 1,
   "id": "4aa7cfa0-fc32-4100-9ab9-72d08bef24c7",
   "metadata": {},
   "outputs": [],
   "source": [
    "import pandas as pd\n",
    "from sklearn.model_selection import train_test_split\n",
    "from sklearn.preprocessing import OneHotEncoder\n",
    "from sklearn.impute import SimpleImputer\n",
    "from sklearn.preprocessing import StandardScaler\n",
    "\n",
    "from sklearn.tree import DecisionTreeClassifier\n",
    "from sklearn.ensemble import RandomForestClassifier\n",
    "\n",
    "from sklearn.metrics import accuracy_score\n",
    "from sklearn.pipeline import make_pipeline"
   ]
  },
  {
   "cell_type": "markdown",
   "id": "f3982db5-09cd-49a3-8f6a-48827c0dba6d",
   "metadata": {},
   "source": [
    "For other Classification models see here:"
   ]
  },
  {
   "cell_type": "code",
   "execution_count": 2,
   "id": "0b4fea78-d0af-4b0f-8ef4-73af1c5aa841",
   "metadata": {
    "jupyter": {
     "source_hidden": true
    },
    "tags": []
   },
   "outputs": [],
   "source": [
    "#other models:\n",
    "#from sklearn.model_selection import train_test_split\n",
    "#from sklearn.datasets import make_moons, make_circles, make_classification\n",
    "\n",
    "#from sklearn.neural_network import MLPClassifier\n",
    "#from sklearn.neighbors import KNeighborsClassifier\n",
    "#from sklearn.svm import SVC\n",
    "#from sklearn.gaussian_process import GaussianProcessClassifier\n",
    "#from sklearn.gaussian_process.kernels import RBF\n",
    "#from sklearn.tree import DecisionTreeClassifier\n",
    "#from sklearn.ensemble import RandomForestClassifier, AdaBoostClassifier\n",
    "#from sklearn.naive_bayes import GaussianNB\n",
    "#from sklearn.discriminant_analysis import QuadraticDiscriminantAnalysis"
   ]
  },
  {
   "cell_type": "code",
   "execution_count": 3,
   "id": "b430fe51-c48a-4103-836a-d2e0c21ffacb",
   "metadata": {},
   "outputs": [
    {
     "data": {
      "text/plain": [
       "Index(['LotArea', 'LotFrontage', 'TotalBsmtSF', 'BedroomAbvGr', 'Fireplaces',\n",
       "       'PoolArea', 'GarageCars', 'WoodDeckSF', 'ScreenPorch', 'Expensive',\n",
       "       'MSZoning', 'Condition1', 'Heating', 'Street', 'CentralAir',\n",
       "       'Foundation'],\n",
       "      dtype='object')"
      ]
     },
     "execution_count": 3,
     "metadata": {},
     "output_type": "execute_result"
    }
   ],
   "source": [
    "data = pd.read_csv(\"housing-classification-iter3_Liane.csv\")\n",
    "data.columns"
   ]
  },
  {
   "cell_type": "markdown",
   "id": "03823d68-576d-4d13-82f5-7d889e548bac",
   "metadata": {},
   "source": [
    "## 2. Split X and y"
   ]
  },
  {
   "cell_type": "code",
   "execution_count": 4,
   "id": "c8dac0c6-d5e4-471c-8186-c9bebb6f59f4",
   "metadata": {},
   "outputs": [],
   "source": [
    "y = data.pop(\"Expensive\")"
   ]
  },
  {
   "cell_type": "code",
   "execution_count": 5,
   "id": "dac72a95-f5d9-499a-95f6-72c3d6ffe76c",
   "metadata": {},
   "outputs": [],
   "source": [
    "X = data #.drop(columns=[\"PassengerId\", \"Name\", \"Ticket\"])"
   ]
  },
  {
   "cell_type": "code",
   "execution_count": 6,
   "id": "2c921820-dde5-487f-8515-6643da9bb3c4",
   "metadata": {
    "tags": []
   },
   "outputs": [
    {
     "data": {
      "text/plain": [
       "LotArea           0\n",
       "LotFrontage     259\n",
       "TotalBsmtSF       0\n",
       "BedroomAbvGr      0\n",
       "Fireplaces        0\n",
       "PoolArea          0\n",
       "GarageCars        0\n",
       "WoodDeckSF        0\n",
       "ScreenPorch       0\n",
       "MSZoning          0\n",
       "Condition1        0\n",
       "Heating           0\n",
       "Street            0\n",
       "CentralAir        0\n",
       "Foundation        0\n",
       "dtype: int64"
      ]
     },
     "execution_count": 6,
     "metadata": {},
     "output_type": "execute_result"
    }
   ],
   "source": [
    "X.isna().sum()"
   ]
  },
  {
   "cell_type": "code",
   "execution_count": 7,
   "id": "ca3c868e-6ef2-4d36-bf83-a452c0c6ed69",
   "metadata": {
    "tags": []
   },
   "outputs": [
    {
     "name": "stdout",
     "output_type": "stream",
     "text": [
      "<class 'pandas.core.frame.DataFrame'>\n",
      "RangeIndex: 1460 entries, 0 to 1459\n",
      "Data columns (total 15 columns):\n",
      " #   Column        Non-Null Count  Dtype  \n",
      "---  ------        --------------  -----  \n",
      " 0   LotArea       1460 non-null   int64  \n",
      " 1   LotFrontage   1201 non-null   float64\n",
      " 2   TotalBsmtSF   1460 non-null   int64  \n",
      " 3   BedroomAbvGr  1460 non-null   int64  \n",
      " 4   Fireplaces    1460 non-null   int64  \n",
      " 5   PoolArea      1460 non-null   int64  \n",
      " 6   GarageCars    1460 non-null   int64  \n",
      " 7   WoodDeckSF    1460 non-null   int64  \n",
      " 8   ScreenPorch   1460 non-null   int64  \n",
      " 9   MSZoning      1460 non-null   object \n",
      " 10  Condition1    1460 non-null   object \n",
      " 11  Heating       1460 non-null   object \n",
      " 12  Street        1460 non-null   object \n",
      " 13  CentralAir    1460 non-null   object \n",
      " 14  Foundation    1460 non-null   object \n",
      "dtypes: float64(1), int64(8), object(6)\n",
      "memory usage: 171.2+ KB\n"
     ]
    }
   ],
   "source": [
    "X.info()"
   ]
  },
  {
   "cell_type": "markdown",
   "id": "f58657ea-4742-4afd-bd7a-da27ac833fc5",
   "metadata": {},
   "source": [
    "**Conclusion: We have some missing values**"
   ]
  },
  {
   "cell_type": "markdown",
   "id": "f53e980b-9963-46df-a54c-1284822775ea",
   "metadata": {},
   "source": [
    "## 3. Split Train and Test\n"
   ]
  },
  {
   "cell_type": "code",
   "execution_count": 8,
   "id": "4d4e3594-ebce-441b-8a2a-70f10418a855",
   "metadata": {},
   "outputs": [],
   "source": [
    "X_train, X_test, y_train, y_test = train_test_split(X, y, test_size=0.2, random_state=31416)"
   ]
  },
  {
   "cell_type": "markdown",
   "id": "450792f0-9905-4acb-a019-c0d09199759b",
   "metadata": {},
   "source": [
    "## 4. Creating a numeric pipe and a categorical pipe"
   ]
  },
  {
   "cell_type": "code",
   "execution_count": 9,
   "id": "c2b8c10b-3ecc-4a4b-98a3-889687c10e36",
   "metadata": {},
   "outputs": [],
   "source": [
    "#Maybe some stuff to add a scaler:\n",
    "# initialize transformers & model\n",
    "#imputer = SimpleImputer()\n",
    "#scaler = StandardScaler()"
   ]
  },
  {
   "cell_type": "code",
   "execution_count": 38,
   "id": "4530de88-aace-4b75-b8e0-905f2369b5e5",
   "metadata": {},
   "outputs": [],
   "source": [
    "# select categorical and numerical column names\n",
    "X_cat_columns = X.select_dtypes(exclude=\"number\").copy().columns\n",
    "X_num_columns = X.select_dtypes(include=\"number\").copy().columns\n",
    "\n",
    "# create numerical pipeline, only with the SimpleImputer(strategy=\"mean\")\n",
    "numeric_pipe = make_pipeline(\n",
    "    SimpleImputer(), \n",
    "    StandardScaler())\n",
    " \n",
    " # create categorical pipeline, with the SimpleImputer(fill_value=\"N_A\") and the OneHotEncoder\n",
    "categoric_pipe = make_pipeline(\n",
    "    SimpleImputer(),\n",
    "    OneHotEncoder()\n",
    ")"
   ]
  },
  {
   "cell_type": "markdown",
   "id": "d5ba9778-03fc-4ecd-a5bb-061059ce50f3",
   "metadata": {},
   "source": [
    "## 5. Preprocess all data by running both pipes and merge the results \n",
    "**with `ColumnTransformer`**"
   ]
  },
  {
   "cell_type": "code",
   "execution_count": 39,
   "id": "8636f9c9-82d4-4afb-843c-80a510d1b2e2",
   "metadata": {},
   "outputs": [],
   "source": [
    "from sklearn.compose import ColumnTransformer\n",
    "\n",
    "preprocessor = ColumnTransformer(\n",
    "    transformers=[\n",
    "        (\"num_pipe\", numeric_pipe, X_num_columns),\n",
    "        (\"cat_pipe\", categoric_pipe, X_cat_columns),\n",
    "    ]\n",
    ")"
   ]
  },
  {
   "cell_type": "markdown",
   "id": "21220782-d049-46e6-ae82-a7bcbeb45311",
   "metadata": {},
   "source": [
    "## 6. Create the `full_pipe` with preprocessor and Model"
   ]
  },
  {
   "cell_type": "code",
   "execution_count": 40,
   "id": "e73472e3-5d49-4e87-9988-aad34d5b80e6",
   "metadata": {},
   "outputs": [],
   "source": [
    "# initialize the model\n",
    "dtree = DecisionTreeClassifier()\n",
    "#rforest = RandomForestClassifier()\n",
    "\n",
    "#create the full_pipeline\n",
    "full_pipe = make_pipeline(preprocessor, \n",
    "                          dtree)"
   ]
  },
  {
   "cell_type": "code",
   "execution_count": 41,
   "id": "37de6e28-9af1-4fb7-8898-ee13a75f8cec",
   "metadata": {},
   "outputs": [
    {
     "data": {
      "text/html": [
       "<style>#sk-08a07330-817f-4271-a6ea-3b98dae506b0 {color: black;background-color: white;}#sk-08a07330-817f-4271-a6ea-3b98dae506b0 pre{padding: 0;}#sk-08a07330-817f-4271-a6ea-3b98dae506b0 div.sk-toggleable {background-color: white;}#sk-08a07330-817f-4271-a6ea-3b98dae506b0 label.sk-toggleable__label {cursor: pointer;display: block;width: 100%;margin-bottom: 0;padding: 0.3em;box-sizing: border-box;text-align: center;}#sk-08a07330-817f-4271-a6ea-3b98dae506b0 label.sk-toggleable__label-arrow:before {content: \"▸\";float: left;margin-right: 0.25em;color: #696969;}#sk-08a07330-817f-4271-a6ea-3b98dae506b0 label.sk-toggleable__label-arrow:hover:before {color: black;}#sk-08a07330-817f-4271-a6ea-3b98dae506b0 div.sk-estimator:hover label.sk-toggleable__label-arrow:before {color: black;}#sk-08a07330-817f-4271-a6ea-3b98dae506b0 div.sk-toggleable__content {max-height: 0;max-width: 0;overflow: hidden;text-align: left;background-color: #f0f8ff;}#sk-08a07330-817f-4271-a6ea-3b98dae506b0 div.sk-toggleable__content pre {margin: 0.2em;color: black;border-radius: 0.25em;background-color: #f0f8ff;}#sk-08a07330-817f-4271-a6ea-3b98dae506b0 input.sk-toggleable__control:checked~div.sk-toggleable__content {max-height: 200px;max-width: 100%;overflow: auto;}#sk-08a07330-817f-4271-a6ea-3b98dae506b0 input.sk-toggleable__control:checked~label.sk-toggleable__label-arrow:before {content: \"▾\";}#sk-08a07330-817f-4271-a6ea-3b98dae506b0 div.sk-estimator input.sk-toggleable__control:checked~label.sk-toggleable__label {background-color: #d4ebff;}#sk-08a07330-817f-4271-a6ea-3b98dae506b0 div.sk-label input.sk-toggleable__control:checked~label.sk-toggleable__label {background-color: #d4ebff;}#sk-08a07330-817f-4271-a6ea-3b98dae506b0 input.sk-hidden--visually {border: 0;clip: rect(1px 1px 1px 1px);clip: rect(1px, 1px, 1px, 1px);height: 1px;margin: -1px;overflow: hidden;padding: 0;position: absolute;width: 1px;}#sk-08a07330-817f-4271-a6ea-3b98dae506b0 div.sk-estimator {font-family: monospace;background-color: #f0f8ff;border: 1px dotted black;border-radius: 0.25em;box-sizing: border-box;margin-bottom: 0.5em;}#sk-08a07330-817f-4271-a6ea-3b98dae506b0 div.sk-estimator:hover {background-color: #d4ebff;}#sk-08a07330-817f-4271-a6ea-3b98dae506b0 div.sk-parallel-item::after {content: \"\";width: 100%;border-bottom: 1px solid gray;flex-grow: 1;}#sk-08a07330-817f-4271-a6ea-3b98dae506b0 div.sk-label:hover label.sk-toggleable__label {background-color: #d4ebff;}#sk-08a07330-817f-4271-a6ea-3b98dae506b0 div.sk-serial::before {content: \"\";position: absolute;border-left: 1px solid gray;box-sizing: border-box;top: 2em;bottom: 0;left: 50%;}#sk-08a07330-817f-4271-a6ea-3b98dae506b0 div.sk-serial {display: flex;flex-direction: column;align-items: center;background-color: white;padding-right: 0.2em;padding-left: 0.2em;}#sk-08a07330-817f-4271-a6ea-3b98dae506b0 div.sk-item {z-index: 1;}#sk-08a07330-817f-4271-a6ea-3b98dae506b0 div.sk-parallel {display: flex;align-items: stretch;justify-content: center;background-color: white;}#sk-08a07330-817f-4271-a6ea-3b98dae506b0 div.sk-parallel::before {content: \"\";position: absolute;border-left: 1px solid gray;box-sizing: border-box;top: 2em;bottom: 0;left: 50%;}#sk-08a07330-817f-4271-a6ea-3b98dae506b0 div.sk-parallel-item {display: flex;flex-direction: column;position: relative;background-color: white;}#sk-08a07330-817f-4271-a6ea-3b98dae506b0 div.sk-parallel-item:first-child::after {align-self: flex-end;width: 50%;}#sk-08a07330-817f-4271-a6ea-3b98dae506b0 div.sk-parallel-item:last-child::after {align-self: flex-start;width: 50%;}#sk-08a07330-817f-4271-a6ea-3b98dae506b0 div.sk-parallel-item:only-child::after {width: 0;}#sk-08a07330-817f-4271-a6ea-3b98dae506b0 div.sk-dashed-wrapped {border: 1px dashed gray;margin: 0 0.4em 0.5em 0.4em;box-sizing: border-box;padding-bottom: 0.4em;background-color: white;position: relative;}#sk-08a07330-817f-4271-a6ea-3b98dae506b0 div.sk-label label {font-family: monospace;font-weight: bold;background-color: white;display: inline-block;line-height: 1.2em;}#sk-08a07330-817f-4271-a6ea-3b98dae506b0 div.sk-label-container {position: relative;z-index: 2;text-align: center;}#sk-08a07330-817f-4271-a6ea-3b98dae506b0 div.sk-container {/* jupyter's `normalize.less` sets `[hidden] { display: none; }` but bootstrap.min.css set `[hidden] { display: none !important; }` so we also need the `!important` here to be able to override the default hidden behavior on the sphinx rendered scikit-learn.org. See: https://github.com/scikit-learn/scikit-learn/issues/21755 */display: inline-block !important;position: relative;}#sk-08a07330-817f-4271-a6ea-3b98dae506b0 div.sk-text-repr-fallback {display: none;}</style><div id=\"sk-08a07330-817f-4271-a6ea-3b98dae506b0\" class=\"sk-top-container\"><div class=\"sk-text-repr-fallback\"><pre>Pipeline(steps=[(&#x27;columntransformer&#x27;,\n",
       "                 ColumnTransformer(transformers=[(&#x27;num_pipe&#x27;,\n",
       "                                                  Pipeline(steps=[(&#x27;simpleimputer&#x27;,\n",
       "                                                                   SimpleImputer()),\n",
       "                                                                  (&#x27;standardscaler&#x27;,\n",
       "                                                                   StandardScaler())]),\n",
       "                                                  Index([&#x27;LotArea&#x27;, &#x27;LotFrontage&#x27;, &#x27;TotalBsmtSF&#x27;, &#x27;BedroomAbvGr&#x27;, &#x27;Fireplaces&#x27;,\n",
       "       &#x27;PoolArea&#x27;, &#x27;GarageCars&#x27;, &#x27;WoodDeckSF&#x27;, &#x27;ScreenPorch&#x27;],\n",
       "      dtype=&#x27;object&#x27;)),\n",
       "                                                 (&#x27;cat_pipe&#x27;,\n",
       "                                                  Pipeline(steps=[(&#x27;simpleimputer&#x27;,\n",
       "                                                                   SimpleImputer()),\n",
       "                                                                  (&#x27;onehotencoder&#x27;,\n",
       "                                                                   OneHotEncoder())]),\n",
       "                                                  Index([&#x27;MSZoning&#x27;, &#x27;Condition1&#x27;, &#x27;Heating&#x27;, &#x27;Street&#x27;, &#x27;CentralAir&#x27;,\n",
       "       &#x27;Foundation&#x27;],\n",
       "      dtype=&#x27;object&#x27;))])),\n",
       "                (&#x27;decisiontreeclassifier&#x27;, DecisionTreeClassifier())])</pre><b>Please rerun this cell to show the HTML repr or trust the notebook.</b></div><div class=\"sk-container\" hidden><div class=\"sk-item sk-dashed-wrapped\"><div class=\"sk-label-container\"><div class=\"sk-label sk-toggleable\"><input class=\"sk-toggleable__control sk-hidden--visually\" id=\"407084de-a21f-4426-a09c-339d71cac7b3\" type=\"checkbox\" ><label for=\"407084de-a21f-4426-a09c-339d71cac7b3\" class=\"sk-toggleable__label sk-toggleable__label-arrow\">Pipeline</label><div class=\"sk-toggleable__content\"><pre>Pipeline(steps=[(&#x27;columntransformer&#x27;,\n",
       "                 ColumnTransformer(transformers=[(&#x27;num_pipe&#x27;,\n",
       "                                                  Pipeline(steps=[(&#x27;simpleimputer&#x27;,\n",
       "                                                                   SimpleImputer()),\n",
       "                                                                  (&#x27;standardscaler&#x27;,\n",
       "                                                                   StandardScaler())]),\n",
       "                                                  Index([&#x27;LotArea&#x27;, &#x27;LotFrontage&#x27;, &#x27;TotalBsmtSF&#x27;, &#x27;BedroomAbvGr&#x27;, &#x27;Fireplaces&#x27;,\n",
       "       &#x27;PoolArea&#x27;, &#x27;GarageCars&#x27;, &#x27;WoodDeckSF&#x27;, &#x27;ScreenPorch&#x27;],\n",
       "      dtype=&#x27;object&#x27;)),\n",
       "                                                 (&#x27;cat_pipe&#x27;,\n",
       "                                                  Pipeline(steps=[(&#x27;simpleimputer&#x27;,\n",
       "                                                                   SimpleImputer()),\n",
       "                                                                  (&#x27;onehotencoder&#x27;,\n",
       "                                                                   OneHotEncoder())]),\n",
       "                                                  Index([&#x27;MSZoning&#x27;, &#x27;Condition1&#x27;, &#x27;Heating&#x27;, &#x27;Street&#x27;, &#x27;CentralAir&#x27;,\n",
       "       &#x27;Foundation&#x27;],\n",
       "      dtype=&#x27;object&#x27;))])),\n",
       "                (&#x27;decisiontreeclassifier&#x27;, DecisionTreeClassifier())])</pre></div></div></div><div class=\"sk-serial\"><div class=\"sk-item sk-dashed-wrapped\"><div class=\"sk-label-container\"><div class=\"sk-label sk-toggleable\"><input class=\"sk-toggleable__control sk-hidden--visually\" id=\"422abff9-5dd8-4c1c-a856-3f0c65408c30\" type=\"checkbox\" ><label for=\"422abff9-5dd8-4c1c-a856-3f0c65408c30\" class=\"sk-toggleable__label sk-toggleable__label-arrow\">columntransformer: ColumnTransformer</label><div class=\"sk-toggleable__content\"><pre>ColumnTransformer(transformers=[(&#x27;num_pipe&#x27;,\n",
       "                                 Pipeline(steps=[(&#x27;simpleimputer&#x27;,\n",
       "                                                  SimpleImputer()),\n",
       "                                                 (&#x27;standardscaler&#x27;,\n",
       "                                                  StandardScaler())]),\n",
       "                                 Index([&#x27;LotArea&#x27;, &#x27;LotFrontage&#x27;, &#x27;TotalBsmtSF&#x27;, &#x27;BedroomAbvGr&#x27;, &#x27;Fireplaces&#x27;,\n",
       "       &#x27;PoolArea&#x27;, &#x27;GarageCars&#x27;, &#x27;WoodDeckSF&#x27;, &#x27;ScreenPorch&#x27;],\n",
       "      dtype=&#x27;object&#x27;)),\n",
       "                                (&#x27;cat_pipe&#x27;,\n",
       "                                 Pipeline(steps=[(&#x27;simpleimputer&#x27;,\n",
       "                                                  SimpleImputer()),\n",
       "                                                 (&#x27;onehotencoder&#x27;,\n",
       "                                                  OneHotEncoder())]),\n",
       "                                 Index([&#x27;MSZoning&#x27;, &#x27;Condition1&#x27;, &#x27;Heating&#x27;, &#x27;Street&#x27;, &#x27;CentralAir&#x27;,\n",
       "       &#x27;Foundation&#x27;],\n",
       "      dtype=&#x27;object&#x27;))])</pre></div></div></div><div class=\"sk-parallel\"><div class=\"sk-parallel-item\"><div class=\"sk-item\"><div class=\"sk-label-container\"><div class=\"sk-label sk-toggleable\"><input class=\"sk-toggleable__control sk-hidden--visually\" id=\"5362990c-5265-42da-9db4-867b93c2d421\" type=\"checkbox\" ><label for=\"5362990c-5265-42da-9db4-867b93c2d421\" class=\"sk-toggleable__label sk-toggleable__label-arrow\">num_pipe</label><div class=\"sk-toggleable__content\"><pre>Index([&#x27;LotArea&#x27;, &#x27;LotFrontage&#x27;, &#x27;TotalBsmtSF&#x27;, &#x27;BedroomAbvGr&#x27;, &#x27;Fireplaces&#x27;,\n",
       "       &#x27;PoolArea&#x27;, &#x27;GarageCars&#x27;, &#x27;WoodDeckSF&#x27;, &#x27;ScreenPorch&#x27;],\n",
       "      dtype=&#x27;object&#x27;)</pre></div></div></div><div class=\"sk-serial\"><div class=\"sk-item\"><div class=\"sk-serial\"><div class=\"sk-item\"><div class=\"sk-estimator sk-toggleable\"><input class=\"sk-toggleable__control sk-hidden--visually\" id=\"151502e6-8d43-4319-8169-2736c05e0b30\" type=\"checkbox\" ><label for=\"151502e6-8d43-4319-8169-2736c05e0b30\" class=\"sk-toggleable__label sk-toggleable__label-arrow\">SimpleImputer</label><div class=\"sk-toggleable__content\"><pre>SimpleImputer()</pre></div></div></div><div class=\"sk-item\"><div class=\"sk-estimator sk-toggleable\"><input class=\"sk-toggleable__control sk-hidden--visually\" id=\"58bab6a4-9b0d-4bb0-bbff-951bf33610c3\" type=\"checkbox\" ><label for=\"58bab6a4-9b0d-4bb0-bbff-951bf33610c3\" class=\"sk-toggleable__label sk-toggleable__label-arrow\">StandardScaler</label><div class=\"sk-toggleable__content\"><pre>StandardScaler()</pre></div></div></div></div></div></div></div></div><div class=\"sk-parallel-item\"><div class=\"sk-item\"><div class=\"sk-label-container\"><div class=\"sk-label sk-toggleable\"><input class=\"sk-toggleable__control sk-hidden--visually\" id=\"26f08ce0-d5d9-4c51-aad1-bf46f1d55a33\" type=\"checkbox\" ><label for=\"26f08ce0-d5d9-4c51-aad1-bf46f1d55a33\" class=\"sk-toggleable__label sk-toggleable__label-arrow\">cat_pipe</label><div class=\"sk-toggleable__content\"><pre>Index([&#x27;MSZoning&#x27;, &#x27;Condition1&#x27;, &#x27;Heating&#x27;, &#x27;Street&#x27;, &#x27;CentralAir&#x27;,\n",
       "       &#x27;Foundation&#x27;],\n",
       "      dtype=&#x27;object&#x27;)</pre></div></div></div><div class=\"sk-serial\"><div class=\"sk-item\"><div class=\"sk-serial\"><div class=\"sk-item\"><div class=\"sk-estimator sk-toggleable\"><input class=\"sk-toggleable__control sk-hidden--visually\" id=\"29287398-4e5c-438c-a97d-226ee905f70d\" type=\"checkbox\" ><label for=\"29287398-4e5c-438c-a97d-226ee905f70d\" class=\"sk-toggleable__label sk-toggleable__label-arrow\">SimpleImputer</label><div class=\"sk-toggleable__content\"><pre>SimpleImputer()</pre></div></div></div><div class=\"sk-item\"><div class=\"sk-estimator sk-toggleable\"><input class=\"sk-toggleable__control sk-hidden--visually\" id=\"9e6599de-2942-446b-8878-9decae8d6300\" type=\"checkbox\" ><label for=\"9e6599de-2942-446b-8878-9decae8d6300\" class=\"sk-toggleable__label sk-toggleable__label-arrow\">OneHotEncoder</label><div class=\"sk-toggleable__content\"><pre>OneHotEncoder()</pre></div></div></div></div></div></div></div></div></div></div><div class=\"sk-item\"><div class=\"sk-estimator sk-toggleable\"><input class=\"sk-toggleable__control sk-hidden--visually\" id=\"7eba9b1b-210e-4d19-b250-a8d0bc8bf9ba\" type=\"checkbox\" ><label for=\"7eba9b1b-210e-4d19-b250-a8d0bc8bf9ba\" class=\"sk-toggleable__label sk-toggleable__label-arrow\">DecisionTreeClassifier</label><div class=\"sk-toggleable__content\"><pre>DecisionTreeClassifier()</pre></div></div></div></div></div></div></div>"
      ],
      "text/plain": [
       "Pipeline(steps=[('columntransformer',\n",
       "                 ColumnTransformer(transformers=[('num_pipe',\n",
       "                                                  Pipeline(steps=[('simpleimputer',\n",
       "                                                                   SimpleImputer()),\n",
       "                                                                  ('standardscaler',\n",
       "                                                                   StandardScaler())]),\n",
       "                                                  Index(['LotArea', 'LotFrontage', 'TotalBsmtSF', 'BedroomAbvGr', 'Fireplaces',\n",
       "       'PoolArea', 'GarageCars', 'WoodDeckSF', 'ScreenPorch'],\n",
       "      dtype='object')),\n",
       "                                                 ('cat_pipe',\n",
       "                                                  Pipeline(steps=[('simpleimputer',\n",
       "                                                                   SimpleImputer()),\n",
       "                                                                  ('onehotencoder',\n",
       "                                                                   OneHotEncoder())]),\n",
       "                                                  Index(['MSZoning', 'Condition1', 'Heating', 'Street', 'CentralAir',\n",
       "       'Foundation'],\n",
       "      dtype='object'))])),\n",
       "                ('decisiontreeclassifier', DecisionTreeClassifier())])"
      ]
     },
     "execution_count": 41,
     "metadata": {},
     "output_type": "execute_result"
    }
   ],
   "source": [
    "#look at full_pipe and check if its good\n",
    "from sklearn import set_config\n",
    "\n",
    "set_config(display=\"diagram\")\n",
    "full_pipe # click on the diagram below to see the details of each step"
   ]
  },
  {
   "cell_type": "markdown",
   "id": "90358179-38f0-4d0f-8593-33537c7a0d55",
   "metadata": {},
   "source": [
    "## 5. Define the SearchGrid"
   ]
  },
  {
   "cell_type": "code",
   "execution_count": 42,
   "id": "dec42ca5-277e-44a8-a6aa-3d1abb9ad7a0",
   "metadata": {},
   "outputs": [],
   "source": [
    "# create parameter grid\n",
    "param_grid = {\n",
    "    \"columntransformer__num_pipe__standardscaler__with_mean\":[True, False],\n",
    "    \"columntransformer__num_pipe__standardscaler__with_std\":[True, False],\n",
    "    \"columntransformer__num_pipe__simpleimputer__strategy\":[\"mean\", \"median\"],\n",
    "    \"columntransformer__cat_pipe__simpleimputer__strategy\": [\"constant\"],\n",
    "    \"columntransformer__cat_pipe__simpleimputer__fill_value\": [\"N_A\"],\n",
    "    \"columntransformer__cat_pipe__onehotencoder__handle_unknown\": [\"ignore\"],\n",
    "    \"decisiontreeclassifier__max_depth\": range(2, 14),\n",
    "    \"decisiontreeclassifier__min_samples_leaf\": range(2, 12),\n",
    "    \"decisiontreeclassifier__min_samples_split\": range(3, 40, 2),\n",
    "    \"decisiontreeclassifier__criterion\":[\"gini\", \"entropy\"]\n",
    "#    \"randomforestclassifier__n_estimators\": [100, 200],\n",
    "#    \"randomforestclassifier__max_depth\": range(2, 14),\n",
    "#    \"randomforestclassifier__min_samples_leaf\": range(2, 10),\n",
    "#    \"randomforestclassifier__criterion\":[\"gini\", \"entropy\"]\n",
    "}"
   ]
  },
  {
   "cell_type": "markdown",
   "id": "c8f5dc05-1bcf-4295-8af3-dc28283e1586",
   "metadata": {},
   "source": [
    "## 6. Define the Cross-Validation"
   ]
  },
  {
   "cell_type": "code",
   "execution_count": 43,
   "id": "cec6c197-ba23-48d2-812f-683bc0108529",
   "metadata": {},
   "outputs": [],
   "source": [
    "from sklearn.model_selection import GridSearchCV\n",
    "from sklearn.model_selection import RandomizedSearchCV"
   ]
  },
  {
   "cell_type": "code",
   "execution_count": 44,
   "id": "2028ceb6-60ae-4ffe-a082-ad6dd1f97518",
   "metadata": {},
   "outputs": [],
   "source": [
    "# define cross validation\n",
    "search = RandomizedSearchCV(full_pipe,\n",
    "                      param_grid,\n",
    "                      cv=10,\n",
    "                      verbose=1,\n",
    "                      scoring=\"accuracy\",\n",
    "                      n_jobs=-2, \n",
    "                      n_iter=100)"
   ]
  },
  {
   "cell_type": "markdown",
   "id": "8427f806-338d-4aaa-b593-dc66588218b1",
   "metadata": {},
   "source": [
    "## 7. Build the model"
   ]
  },
  {
   "cell_type": "code",
   "execution_count": 35,
   "id": "f71b4867-161a-4579-b85f-07c5625ba539",
   "metadata": {
    "tags": []
   },
   "outputs": [
    {
     "name": "stdout",
     "output_type": "stream",
     "text": [
      "Fitting 10 folds for each of 100 candidates, totalling 1000 fits\n"
     ]
    },
    {
     "data": {
      "text/html": [
       "<style>#sk-ebc5f2a8-9878-4804-9a49-606029a37a59 {color: black;background-color: white;}#sk-ebc5f2a8-9878-4804-9a49-606029a37a59 pre{padding: 0;}#sk-ebc5f2a8-9878-4804-9a49-606029a37a59 div.sk-toggleable {background-color: white;}#sk-ebc5f2a8-9878-4804-9a49-606029a37a59 label.sk-toggleable__label {cursor: pointer;display: block;width: 100%;margin-bottom: 0;padding: 0.3em;box-sizing: border-box;text-align: center;}#sk-ebc5f2a8-9878-4804-9a49-606029a37a59 label.sk-toggleable__label-arrow:before {content: \"▸\";float: left;margin-right: 0.25em;color: #696969;}#sk-ebc5f2a8-9878-4804-9a49-606029a37a59 label.sk-toggleable__label-arrow:hover:before {color: black;}#sk-ebc5f2a8-9878-4804-9a49-606029a37a59 div.sk-estimator:hover label.sk-toggleable__label-arrow:before {color: black;}#sk-ebc5f2a8-9878-4804-9a49-606029a37a59 div.sk-toggleable__content {max-height: 0;max-width: 0;overflow: hidden;text-align: left;background-color: #f0f8ff;}#sk-ebc5f2a8-9878-4804-9a49-606029a37a59 div.sk-toggleable__content pre {margin: 0.2em;color: black;border-radius: 0.25em;background-color: #f0f8ff;}#sk-ebc5f2a8-9878-4804-9a49-606029a37a59 input.sk-toggleable__control:checked~div.sk-toggleable__content {max-height: 200px;max-width: 100%;overflow: auto;}#sk-ebc5f2a8-9878-4804-9a49-606029a37a59 input.sk-toggleable__control:checked~label.sk-toggleable__label-arrow:before {content: \"▾\";}#sk-ebc5f2a8-9878-4804-9a49-606029a37a59 div.sk-estimator input.sk-toggleable__control:checked~label.sk-toggleable__label {background-color: #d4ebff;}#sk-ebc5f2a8-9878-4804-9a49-606029a37a59 div.sk-label input.sk-toggleable__control:checked~label.sk-toggleable__label {background-color: #d4ebff;}#sk-ebc5f2a8-9878-4804-9a49-606029a37a59 input.sk-hidden--visually {border: 0;clip: rect(1px 1px 1px 1px);clip: rect(1px, 1px, 1px, 1px);height: 1px;margin: -1px;overflow: hidden;padding: 0;position: absolute;width: 1px;}#sk-ebc5f2a8-9878-4804-9a49-606029a37a59 div.sk-estimator {font-family: monospace;background-color: #f0f8ff;border: 1px dotted black;border-radius: 0.25em;box-sizing: border-box;margin-bottom: 0.5em;}#sk-ebc5f2a8-9878-4804-9a49-606029a37a59 div.sk-estimator:hover {background-color: #d4ebff;}#sk-ebc5f2a8-9878-4804-9a49-606029a37a59 div.sk-parallel-item::after {content: \"\";width: 100%;border-bottom: 1px solid gray;flex-grow: 1;}#sk-ebc5f2a8-9878-4804-9a49-606029a37a59 div.sk-label:hover label.sk-toggleable__label {background-color: #d4ebff;}#sk-ebc5f2a8-9878-4804-9a49-606029a37a59 div.sk-serial::before {content: \"\";position: absolute;border-left: 1px solid gray;box-sizing: border-box;top: 2em;bottom: 0;left: 50%;}#sk-ebc5f2a8-9878-4804-9a49-606029a37a59 div.sk-serial {display: flex;flex-direction: column;align-items: center;background-color: white;padding-right: 0.2em;padding-left: 0.2em;}#sk-ebc5f2a8-9878-4804-9a49-606029a37a59 div.sk-item {z-index: 1;}#sk-ebc5f2a8-9878-4804-9a49-606029a37a59 div.sk-parallel {display: flex;align-items: stretch;justify-content: center;background-color: white;}#sk-ebc5f2a8-9878-4804-9a49-606029a37a59 div.sk-parallel::before {content: \"\";position: absolute;border-left: 1px solid gray;box-sizing: border-box;top: 2em;bottom: 0;left: 50%;}#sk-ebc5f2a8-9878-4804-9a49-606029a37a59 div.sk-parallel-item {display: flex;flex-direction: column;position: relative;background-color: white;}#sk-ebc5f2a8-9878-4804-9a49-606029a37a59 div.sk-parallel-item:first-child::after {align-self: flex-end;width: 50%;}#sk-ebc5f2a8-9878-4804-9a49-606029a37a59 div.sk-parallel-item:last-child::after {align-self: flex-start;width: 50%;}#sk-ebc5f2a8-9878-4804-9a49-606029a37a59 div.sk-parallel-item:only-child::after {width: 0;}#sk-ebc5f2a8-9878-4804-9a49-606029a37a59 div.sk-dashed-wrapped {border: 1px dashed gray;margin: 0 0.4em 0.5em 0.4em;box-sizing: border-box;padding-bottom: 0.4em;background-color: white;position: relative;}#sk-ebc5f2a8-9878-4804-9a49-606029a37a59 div.sk-label label {font-family: monospace;font-weight: bold;background-color: white;display: inline-block;line-height: 1.2em;}#sk-ebc5f2a8-9878-4804-9a49-606029a37a59 div.sk-label-container {position: relative;z-index: 2;text-align: center;}#sk-ebc5f2a8-9878-4804-9a49-606029a37a59 div.sk-container {/* jupyter's `normalize.less` sets `[hidden] { display: none; }` but bootstrap.min.css set `[hidden] { display: none !important; }` so we also need the `!important` here to be able to override the default hidden behavior on the sphinx rendered scikit-learn.org. See: https://github.com/scikit-learn/scikit-learn/issues/21755 */display: inline-block !important;position: relative;}#sk-ebc5f2a8-9878-4804-9a49-606029a37a59 div.sk-text-repr-fallback {display: none;}</style><div id=\"sk-ebc5f2a8-9878-4804-9a49-606029a37a59\" class=\"sk-top-container\"><div class=\"sk-text-repr-fallback\"><pre>RandomizedSearchCV(cv=10,\n",
       "                   estimator=Pipeline(steps=[(&#x27;columntransformer&#x27;,\n",
       "                                              ColumnTransformer(transformers=[(&#x27;num_pipe&#x27;,\n",
       "                                                                               Pipeline(steps=[(&#x27;simpleimputer&#x27;,\n",
       "                                                                                                SimpleImputer()),\n",
       "                                                                                               (&#x27;standardscaler&#x27;,\n",
       "                                                                                                StandardScaler())]),\n",
       "                                                                               Index([&#x27;LotArea&#x27;, &#x27;LotFrontage&#x27;, &#x27;TotalBsmtSF&#x27;, &#x27;BedroomAbvGr&#x27;, &#x27;Fireplaces&#x27;,\n",
       "       &#x27;PoolArea&#x27;, &#x27;GarageCars&#x27;, &#x27;WoodDeckSF&#x27;, &#x27;ScreenPorch&#x27;],\n",
       "      dtype=&#x27;object&#x27;)),\n",
       "                                                                              (&#x27;ca...\n",
       "                                        &#x27;columntransformer__num_pipe__standardscaler__with_mean&#x27;: [True,\n",
       "                                                                                                   False],\n",
       "                                        &#x27;columntransformer__num_pipe__standardscaler__with_std&#x27;: [True,\n",
       "                                                                                                  False],\n",
       "                                        &#x27;decisiontreeclassifier__criterion&#x27;: [&#x27;gini&#x27;,\n",
       "                                                                              &#x27;entropy&#x27;],\n",
       "                                        &#x27;decisiontreeclassifier__max_depth&#x27;: range(2, 14),\n",
       "                                        &#x27;decisiontreeclassifier__min_samples_leaf&#x27;: range(2, 12),\n",
       "                                        &#x27;decisiontreeclassifier__min_samples_split&#x27;: range(3, 40, 2)},\n",
       "                   scoring=&#x27;accuracy&#x27;, verbose=1)</pre><b>Please rerun this cell to show the HTML repr or trust the notebook.</b></div><div class=\"sk-container\" hidden><div class=\"sk-item sk-dashed-wrapped\"><div class=\"sk-label-container\"><div class=\"sk-label sk-toggleable\"><input class=\"sk-toggleable__control sk-hidden--visually\" id=\"f7a7ce89-3436-497b-9196-8119b984ba77\" type=\"checkbox\" ><label for=\"f7a7ce89-3436-497b-9196-8119b984ba77\" class=\"sk-toggleable__label sk-toggleable__label-arrow\">RandomizedSearchCV</label><div class=\"sk-toggleable__content\"><pre>RandomizedSearchCV(cv=10,\n",
       "                   estimator=Pipeline(steps=[(&#x27;columntransformer&#x27;,\n",
       "                                              ColumnTransformer(transformers=[(&#x27;num_pipe&#x27;,\n",
       "                                                                               Pipeline(steps=[(&#x27;simpleimputer&#x27;,\n",
       "                                                                                                SimpleImputer()),\n",
       "                                                                                               (&#x27;standardscaler&#x27;,\n",
       "                                                                                                StandardScaler())]),\n",
       "                                                                               Index([&#x27;LotArea&#x27;, &#x27;LotFrontage&#x27;, &#x27;TotalBsmtSF&#x27;, &#x27;BedroomAbvGr&#x27;, &#x27;Fireplaces&#x27;,\n",
       "       &#x27;PoolArea&#x27;, &#x27;GarageCars&#x27;, &#x27;WoodDeckSF&#x27;, &#x27;ScreenPorch&#x27;],\n",
       "      dtype=&#x27;object&#x27;)),\n",
       "                                                                              (&#x27;ca...\n",
       "                                        &#x27;columntransformer__num_pipe__standardscaler__with_mean&#x27;: [True,\n",
       "                                                                                                   False],\n",
       "                                        &#x27;columntransformer__num_pipe__standardscaler__with_std&#x27;: [True,\n",
       "                                                                                                  False],\n",
       "                                        &#x27;decisiontreeclassifier__criterion&#x27;: [&#x27;gini&#x27;,\n",
       "                                                                              &#x27;entropy&#x27;],\n",
       "                                        &#x27;decisiontreeclassifier__max_depth&#x27;: range(2, 14),\n",
       "                                        &#x27;decisiontreeclassifier__min_samples_leaf&#x27;: range(2, 12),\n",
       "                                        &#x27;decisiontreeclassifier__min_samples_split&#x27;: range(3, 40, 2)},\n",
       "                   scoring=&#x27;accuracy&#x27;, verbose=1)</pre></div></div></div><div class=\"sk-parallel\"><div class=\"sk-parallel-item\"><div class=\"sk-item\"><div class=\"sk-serial\"><div class=\"sk-item\"><div class=\"sk-serial\"><div class=\"sk-item sk-dashed-wrapped\"><div class=\"sk-label-container\"><div class=\"sk-label sk-toggleable\"><input class=\"sk-toggleable__control sk-hidden--visually\" id=\"6caa866f-69ca-48ae-8a85-df5d7869f4a0\" type=\"checkbox\" ><label for=\"6caa866f-69ca-48ae-8a85-df5d7869f4a0\" class=\"sk-toggleable__label sk-toggleable__label-arrow\">columntransformer: ColumnTransformer</label><div class=\"sk-toggleable__content\"><pre>ColumnTransformer(transformers=[(&#x27;num_pipe&#x27;,\n",
       "                                 Pipeline(steps=[(&#x27;simpleimputer&#x27;,\n",
       "                                                  SimpleImputer()),\n",
       "                                                 (&#x27;standardscaler&#x27;,\n",
       "                                                  StandardScaler())]),\n",
       "                                 Index([&#x27;LotArea&#x27;, &#x27;LotFrontage&#x27;, &#x27;TotalBsmtSF&#x27;, &#x27;BedroomAbvGr&#x27;, &#x27;Fireplaces&#x27;,\n",
       "       &#x27;PoolArea&#x27;, &#x27;GarageCars&#x27;, &#x27;WoodDeckSF&#x27;, &#x27;ScreenPorch&#x27;],\n",
       "      dtype=&#x27;object&#x27;)),\n",
       "                                (&#x27;cat_pipe&#x27;,\n",
       "                                 Pipeline(steps=[(&#x27;simpleimputer&#x27;,\n",
       "                                                  SimpleImputer()),\n",
       "                                                 (&#x27;onehotencoder&#x27;,\n",
       "                                                  OneHotEncoder(handle_unknown=&#x27;ignore&#x27;))]),\n",
       "                                 Index([&#x27;MSZoning&#x27;, &#x27;Condition1&#x27;, &#x27;Heating&#x27;, &#x27;Street&#x27;, &#x27;CentralAir&#x27;,\n",
       "       &#x27;Foundation&#x27;],\n",
       "      dtype=&#x27;object&#x27;))])</pre></div></div></div><div class=\"sk-parallel\"><div class=\"sk-parallel-item\"><div class=\"sk-item\"><div class=\"sk-label-container\"><div class=\"sk-label sk-toggleable\"><input class=\"sk-toggleable__control sk-hidden--visually\" id=\"c8a20043-e7f3-425e-8372-e67bba8fba5b\" type=\"checkbox\" ><label for=\"c8a20043-e7f3-425e-8372-e67bba8fba5b\" class=\"sk-toggleable__label sk-toggleable__label-arrow\">num_pipe</label><div class=\"sk-toggleable__content\"><pre>Index([&#x27;LotArea&#x27;, &#x27;LotFrontage&#x27;, &#x27;TotalBsmtSF&#x27;, &#x27;BedroomAbvGr&#x27;, &#x27;Fireplaces&#x27;,\n",
       "       &#x27;PoolArea&#x27;, &#x27;GarageCars&#x27;, &#x27;WoodDeckSF&#x27;, &#x27;ScreenPorch&#x27;],\n",
       "      dtype=&#x27;object&#x27;)</pre></div></div></div><div class=\"sk-serial\"><div class=\"sk-item\"><div class=\"sk-serial\"><div class=\"sk-item\"><div class=\"sk-estimator sk-toggleable\"><input class=\"sk-toggleable__control sk-hidden--visually\" id=\"8a7eb8ce-4d2d-4f5f-92b8-75af488e6519\" type=\"checkbox\" ><label for=\"8a7eb8ce-4d2d-4f5f-92b8-75af488e6519\" class=\"sk-toggleable__label sk-toggleable__label-arrow\">SimpleImputer</label><div class=\"sk-toggleable__content\"><pre>SimpleImputer()</pre></div></div></div><div class=\"sk-item\"><div class=\"sk-estimator sk-toggleable\"><input class=\"sk-toggleable__control sk-hidden--visually\" id=\"8a33d9e5-86d9-4b2a-9bf5-83ead9413225\" type=\"checkbox\" ><label for=\"8a33d9e5-86d9-4b2a-9bf5-83ead9413225\" class=\"sk-toggleable__label sk-toggleable__label-arrow\">StandardScaler</label><div class=\"sk-toggleable__content\"><pre>StandardScaler()</pre></div></div></div></div></div></div></div></div><div class=\"sk-parallel-item\"><div class=\"sk-item\"><div class=\"sk-label-container\"><div class=\"sk-label sk-toggleable\"><input class=\"sk-toggleable__control sk-hidden--visually\" id=\"af0bf553-a41f-4581-bdc3-1801bcd67e46\" type=\"checkbox\" ><label for=\"af0bf553-a41f-4581-bdc3-1801bcd67e46\" class=\"sk-toggleable__label sk-toggleable__label-arrow\">cat_pipe</label><div class=\"sk-toggleable__content\"><pre>Index([&#x27;MSZoning&#x27;, &#x27;Condition1&#x27;, &#x27;Heating&#x27;, &#x27;Street&#x27;, &#x27;CentralAir&#x27;,\n",
       "       &#x27;Foundation&#x27;],\n",
       "      dtype=&#x27;object&#x27;)</pre></div></div></div><div class=\"sk-serial\"><div class=\"sk-item\"><div class=\"sk-serial\"><div class=\"sk-item\"><div class=\"sk-estimator sk-toggleable\"><input class=\"sk-toggleable__control sk-hidden--visually\" id=\"1f471267-071f-4037-a21f-57a1095a65f7\" type=\"checkbox\" ><label for=\"1f471267-071f-4037-a21f-57a1095a65f7\" class=\"sk-toggleable__label sk-toggleable__label-arrow\">SimpleImputer</label><div class=\"sk-toggleable__content\"><pre>SimpleImputer()</pre></div></div></div><div class=\"sk-item\"><div class=\"sk-estimator sk-toggleable\"><input class=\"sk-toggleable__control sk-hidden--visually\" id=\"584f9f30-d91b-4e9b-8de4-7b2ff7753427\" type=\"checkbox\" ><label for=\"584f9f30-d91b-4e9b-8de4-7b2ff7753427\" class=\"sk-toggleable__label sk-toggleable__label-arrow\">OneHotEncoder</label><div class=\"sk-toggleable__content\"><pre>OneHotEncoder(handle_unknown=&#x27;ignore&#x27;)</pre></div></div></div></div></div></div></div></div></div></div><div class=\"sk-item\"><div class=\"sk-estimator sk-toggleable\"><input class=\"sk-toggleable__control sk-hidden--visually\" id=\"f6675815-2419-418e-8edd-d02003fb707d\" type=\"checkbox\" ><label for=\"f6675815-2419-418e-8edd-d02003fb707d\" class=\"sk-toggleable__label sk-toggleable__label-arrow\">DecisionTreeClassifier</label><div class=\"sk-toggleable__content\"><pre>DecisionTreeClassifier()</pre></div></div></div></div></div></div></div></div></div></div></div></div>"
      ],
      "text/plain": [
       "RandomizedSearchCV(cv=10,\n",
       "                   estimator=Pipeline(steps=[('columntransformer',\n",
       "                                              ColumnTransformer(transformers=[('num_pipe',\n",
       "                                                                               Pipeline(steps=[('simpleimputer',\n",
       "                                                                                                SimpleImputer()),\n",
       "                                                                                               ('standardscaler',\n",
       "                                                                                                StandardScaler())]),\n",
       "                                                                               Index(['LotArea', 'LotFrontage', 'TotalBsmtSF', 'BedroomAbvGr', 'Fireplaces',\n",
       "       'PoolArea', 'GarageCars', 'WoodDeckSF', 'ScreenPorch'],\n",
       "      dtype='object')),\n",
       "                                                                              ('ca...\n",
       "                                        'columntransformer__num_pipe__standardscaler__with_mean': [True,\n",
       "                                                                                                   False],\n",
       "                                        'columntransformer__num_pipe__standardscaler__with_std': [True,\n",
       "                                                                                                  False],\n",
       "                                        'decisiontreeclassifier__criterion': ['gini',\n",
       "                                                                              'entropy'],\n",
       "                                        'decisiontreeclassifier__max_depth': range(2, 14),\n",
       "                                        'decisiontreeclassifier__min_samples_leaf': range(2, 12),\n",
       "                                        'decisiontreeclassifier__min_samples_split': range(3, 40, 2)},\n",
       "                   scoring='accuracy', verbose=1)"
      ]
     },
     "execution_count": 35,
     "metadata": {},
     "output_type": "execute_result"
    }
   ],
   "source": [
    "# fit\n",
    "search.fit(X_train, y_train)"
   ]
  },
  {
   "cell_type": "code",
   "execution_count": 28,
   "id": "e15f3826-e216-4a71-b30c-81c8d7e3cc85",
   "metadata": {},
   "outputs": [
    {
     "data": {
      "text/plain": [
       "0.917816091954023"
      ]
     },
     "execution_count": 28,
     "metadata": {},
     "output_type": "execute_result"
    }
   ],
   "source": [
    "# cross validation average accuracy\n",
    "search.best_score_"
   ]
  },
  {
   "cell_type": "code",
   "execution_count": 29,
   "id": "9b7ddc9d-ea54-4a5a-af44-a9a6e1d83534",
   "metadata": {},
   "outputs": [
    {
     "data": {
      "text/plain": [
       "{'decisiontreeclassifier__min_samples_split': 13,\n",
       " 'decisiontreeclassifier__min_samples_leaf': 2,\n",
       " 'decisiontreeclassifier__max_depth': 4,\n",
       " 'decisiontreeclassifier__criterion': 'entropy',\n",
       " 'columntransformer__num_pipe__standardscaler__with_std': False,\n",
       " 'columntransformer__num_pipe__standardscaler__with_mean': True,\n",
       " 'columntransformer__num_pipe__simpleimputer__strategy': 'mean',\n",
       " 'columntransformer__cat_pipe__simpleimputer__strategy': 'constant',\n",
       " 'columntransformer__cat_pipe__simpleimputer__fill_value': 'N_A'}"
      ]
     },
     "execution_count": 29,
     "metadata": {},
     "output_type": "execute_result"
    }
   ],
   "source": [
    "# best parameters\n",
    "search.best_params_"
   ]
  },
  {
   "cell_type": "code",
   "execution_count": 20,
   "id": "36882858-1b19-4a75-b2dc-5fa3700c46a1",
   "metadata": {},
   "outputs": [],
   "source": [
    "#dtree.feature_importances_"
   ]
  },
  {
   "cell_type": "markdown",
   "id": "888b101b-1717-4258-b098-6c5b40478ec6",
   "metadata": {},
   "source": [
    "## 8. Accuracy"
   ]
  },
  {
   "cell_type": "code",
   "execution_count": 21,
   "id": "3c654834-3902-4f34-9008-3e6df9b1de95",
   "metadata": {},
   "outputs": [],
   "source": [
    "from sklearn.metrics import accuracy_score"
   ]
  },
  {
   "cell_type": "code",
   "execution_count": 30,
   "id": "d9c89ac7-d026-4782-bca4-fc356f1e1796",
   "metadata": {},
   "outputs": [
    {
     "data": {
      "text/plain": [
       "0.9289383561643836"
      ]
     },
     "execution_count": 30,
     "metadata": {},
     "output_type": "execute_result"
    }
   ],
   "source": [
    "# training accuracy ON the ENTIRE TRAIN-DATA\n",
    "y_train_pred = search.predict(X_train)\n",
    "\n",
    "accuracy_score(y_train, y_train_pred)"
   ]
  },
  {
   "cell_type": "code",
   "execution_count": 31,
   "id": "66329eeb-b6d2-4308-a43d-c979e2cff656",
   "metadata": {},
   "outputs": [
    {
     "data": {
      "text/plain": [
       "0.9178082191780822"
      ]
     },
     "execution_count": 31,
     "metadata": {},
     "output_type": "execute_result"
    }
   ],
   "source": [
    "# testing accuracy\n",
    "y_test_pred = search.predict(X_test)\n",
    "\n",
    "accuracy_score(y_test, y_test_pred)"
   ]
  },
  {
   "cell_type": "code",
   "execution_count": null,
   "id": "4c64c93a-551e-4855-9293-f7d9bb9ee5c5",
   "metadata": {},
   "outputs": [],
   "source": []
  },
  {
   "cell_type": "code",
   "execution_count": null,
   "id": "7ff42eae-63a7-4ef8-b962-02978fc5748a",
   "metadata": {},
   "outputs": [],
   "source": []
  },
  {
   "cell_type": "code",
   "execution_count": null,
   "id": "98d664a0-3bd9-46c7-89f8-51122968b111",
   "metadata": {},
   "outputs": [],
   "source": []
  }
 ],
 "metadata": {
  "kernelspec": {
   "display_name": "Python 3 (ipykernel)",
   "language": "python",
   "name": "python3"
  },
  "language_info": {
   "codemirror_mode": {
    "name": "ipython",
    "version": 3
   },
   "file_extension": ".py",
   "mimetype": "text/x-python",
   "name": "python",
   "nbconvert_exporter": "python",
   "pygments_lexer": "ipython3",
   "version": "3.8.15"
  }
 },
 "nbformat": 4,
 "nbformat_minor": 5
}
